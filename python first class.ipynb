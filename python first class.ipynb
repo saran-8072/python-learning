{
 "cells": [
  {
   "cell_type": "code",
   "execution_count": null,
   "id": "fc963eae-cddb-4788-93cf-456b7d8e77bf",
   "metadata": {},
   "outputs": [],
   "source": [
    "a=int(input(\"saran\"))\n",
    "b=int(input(\"kumar\"))\n",
    "c=a+b\n",
    "print(c)\n",
    "\n"
   ]
  },
  {
   "cell_type": "code",
   "execution_count": null,
   "id": "c8bdd981-d53a-43f1-9191-05caff0345d2",
   "metadata": {},
   "outputs": [],
   "source": []
  }
 ],
 "metadata": {
  "kernelspec": {
   "display_name": "Python [conda env:base] *",
   "language": "python",
   "name": "conda-base-py"
  },
  "language_info": {
   "codemirror_mode": {
    "name": "ipython",
    "version": 3
   },
   "file_extension": ".py",
   "mimetype": "text/x-python",
   "name": "python",
   "nbconvert_exporter": "python",
   "pygments_lexer": "ipython3",
   "version": "3.12.7"
  }
 },
 "nbformat": 4,
 "nbformat_minor": 5
}
