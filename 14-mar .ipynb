{
 "cells": [
  {
   "cell_type": "markdown",
   "id": "989c07ed-b64b-4ec7-ad10-3f608bc6736f",
   "metadata": {},
   "source": [
    "# int ===> convert to str,  float,  bool"
   ]
  },
  {
   "cell_type": "code",
   "execution_count": 14,
   "id": "0608fa39-72dd-4d42-a496-447cb0a7cd25",
   "metadata": {},
   "outputs": [
    {
     "name": "stdin",
     "output_type": "stream",
     "text": [
      "Enter a value: 1\n"
     ]
    },
    {
     "name": "stdout",
     "output_type": "stream",
     "text": [
      "<class 'int'>\n"
     ]
    }
   ],
   "source": [
    "# int to int \n",
    "\n",
    "a=int(input(\"Enter a value:\"))\n",
    "b=int(a)\n",
    "print(type(b))"
   ]
  },
  {
   "cell_type": "code",
   "execution_count": 16,
   "id": "ec564c52-7b17-4b34-a8e3-8fc63d3100e4",
   "metadata": {},
   "outputs": [
    {
     "name": "stdin",
     "output_type": "stream",
     "text": [
      "Enter a value: 2\n"
     ]
    },
    {
     "name": "stdout",
     "output_type": "stream",
     "text": [
      "<class 'str'>\n"
     ]
    }
   ],
   "source": [
    "# int to str\n",
    "\n",
    "a=int(input(\"Enter a value:\"))\n",
    "b=str(a)\n",
    "print(type(b))"
   ]
  },
  {
   "cell_type": "code",
   "execution_count": 21,
   "id": "69484fce-c0e7-4830-8a42-42f4b098148c",
   "metadata": {},
   "outputs": [
    {
     "name": "stdin",
     "output_type": "stream",
     "text": [
      "Enter a value: 2\n"
     ]
    },
    {
     "name": "stdout",
     "output_type": "stream",
     "text": [
      "<class 'bool'>\n"
     ]
    }
   ],
   "source": [
    "#int to bool\n",
    "\n",
    "a=int(input(\"Enter a value:\"))\n",
    "b=bool(a)\n",
    "print(type(b))"
   ]
  },
  {
   "cell_type": "code",
   "execution_count": 46,
   "id": "9f51821a-13a7-4b58-a653-0a3f1906cb50",
   "metadata": {},
   "outputs": [
    {
     "name": "stdin",
     "output_type": "stream",
     "text": [
      "Enter a value: 6\n"
     ]
    },
    {
     "name": "stdout",
     "output_type": "stream",
     "text": [
      "<class 'float'>\n"
     ]
    }
   ],
   "source": [
    "# int to float\n",
    "\n",
    "a=int(input(\"Enter a value:\"))\n",
    "b=float(a)\n",
    "print(type(b))"
   ]
  },
  {
   "cell_type": "markdown",
   "id": "627acb94-b7dd-443e-b02f-5c7cbc784711",
   "metadata": {},
   "source": [
    "# str ===> convert to int, str, float, bool"
   ]
  },
  {
   "cell_type": "code",
   "execution_count": 48,
   "id": "c3422048-98ec-4995-94bf-30c91088d01c",
   "metadata": {},
   "outputs": [
    {
     "name": "stdin",
     "output_type": "stream",
     "text": [
      "Enter a value: 8\n"
     ]
    },
    {
     "name": "stdout",
     "output_type": "stream",
     "text": [
      "<class 'int'>\n"
     ]
    }
   ],
   "source": [
    "# str to int \n",
    "a=str(input(\"Enter a value:\"))\n",
    "b=int(a)\n",
    "print(type(b))"
   ]
  },
  {
   "cell_type": "code",
   "execution_count": 50,
   "id": "fd9c1425-9f61-45ff-a821-2ab3ae614a4b",
   "metadata": {},
   "outputs": [
    {
     "name": "stdin",
     "output_type": "stream",
     "text": [
      "Enter a value: 7\n"
     ]
    },
    {
     "name": "stdout",
     "output_type": "stream",
     "text": [
      "<class 'str'>\n"
     ]
    }
   ],
   "source": [
    "# str to str\n",
    "a=str(input(\"Enter a value:\"))\n",
    "b=str(a)\n",
    "print(type(b))"
   ]
  },
  {
   "cell_type": "code",
   "execution_count": 52,
   "id": "40a42d6d-1da5-4de4-85a6-1be622349717",
   "metadata": {},
   "outputs": [
    {
     "name": "stdin",
     "output_type": "stream",
     "text": [
      "Enter a value: 7\n"
     ]
    },
    {
     "name": "stdout",
     "output_type": "stream",
     "text": [
      "<class 'float'>\n"
     ]
    }
   ],
   "source": [
    "# str to float\n",
    "a=str(input(\"Enter a value:\"))\n",
    "b=float(a)\n",
    "print(type(b))"
   ]
  },
  {
   "cell_type": "code",
   "execution_count": 59,
   "id": "d980ac99-a301-42a2-8dbc-0802058605c9",
   "metadata": {},
   "outputs": [
    {
     "name": "stdin",
     "output_type": "stream",
     "text": [
      "Enter a value: 2\n"
     ]
    },
    {
     "name": "stdout",
     "output_type": "stream",
     "text": [
      "<class 'bool'>\n"
     ]
    }
   ],
   "source": [
    "# str to bool\n",
    "a=str(input(\"Enter a value:\"))\n",
    "b=bool(a)\n",
    "print(type(b))"
   ]
  },
  {
   "cell_type": "markdown",
   "id": "9f992414-3f2b-4283-9f9b-2b0755f8b2a1",
   "metadata": {},
   "source": [
    "# float ===> convert to int, str, float, bool"
   ]
  },
  {
   "cell_type": "code",
   "execution_count": 61,
   "id": "57a0ef5f-bcb0-4919-940e-e1da0aec4c59",
   "metadata": {},
   "outputs": [
    {
     "name": "stdin",
     "output_type": "stream",
     "text": [
      "Enter a value: 3\n"
     ]
    },
    {
     "name": "stdout",
     "output_type": "stream",
     "text": [
      "<class 'int'>\n"
     ]
    }
   ],
   "source": [
    "# float to int \n",
    "a=float(input(\"Enter a value:\"))\n",
    "b=int(a)\n",
    "print(type(b))\n",
    "        "
   ]
  },
  {
   "cell_type": "code",
   "execution_count": 63,
   "id": "0611eeab-955b-4a10-8b03-65cdb4d53c92",
   "metadata": {},
   "outputs": [
    {
     "name": "stdin",
     "output_type": "stream",
     "text": [
      "Enter a value: 3\n"
     ]
    },
    {
     "name": "stdout",
     "output_type": "stream",
     "text": [
      "<class 'str'>\n"
     ]
    }
   ],
   "source": [
    "# float to str\n",
    "a=float(input(\"Enter a value:\"))\n",
    "b=str(b)\n",
    "print(type(b))"
   ]
  },
  {
   "cell_type": "code",
   "execution_count": 65,
   "id": "279fa807-70d4-4920-a9c9-427bf7e5efd5",
   "metadata": {},
   "outputs": [
    {
     "name": "stdin",
     "output_type": "stream",
     "text": [
      "Enter a value: 2\n"
     ]
    },
    {
     "name": "stdout",
     "output_type": "stream",
     "text": [
      "<class 'float'>\n"
     ]
    }
   ],
   "source": [
    "# float to float\n",
    "a=float(input(\"Enter a value:\"))\n",
    "b=float(a)\n",
    "print(type(b))"
   ]
  },
  {
   "cell_type": "code",
   "execution_count": 69,
   "id": "43915ce7-14f7-4949-be7e-b46909183565",
   "metadata": {},
   "outputs": [
    {
     "name": "stdin",
     "output_type": "stream",
     "text": [
      "Enter a value: 2\n"
     ]
    },
    {
     "name": "stdout",
     "output_type": "stream",
     "text": [
      "<class 'bool'>\n"
     ]
    }
   ],
   "source": [
    "# float to bool\n",
    "a=float(input(\"Enter a value:\"))\n",
    "b=bool(a)\n",
    "print(type(b))\n"
   ]
  },
  {
   "cell_type": "markdown",
   "id": "3b081eea-5115-46a4-bcda-b49055529542",
   "metadata": {},
   "source": [
    "# bool ===> convert to int, str, float, bool"
   ]
  },
  {
   "cell_type": "code",
   "execution_count": 75,
   "id": "e7dc3a7a-ae8b-4c36-bc02-791f6bcf83af",
   "metadata": {},
   "outputs": [
    {
     "name": "stdin",
     "output_type": "stream",
     "text": [
      "Enter a value: 2\n"
     ]
    },
    {
     "name": "stdout",
     "output_type": "stream",
     "text": [
      "<class 'int'>\n"
     ]
    }
   ],
   "source": [
    "# bool to int\n",
    "a=bool(input(\"Enter a value:\"))\n",
    "b=int(a)\n",
    "print(type(b))"
   ]
  },
  {
   "cell_type": "code",
   "execution_count": 77,
   "id": "4faa6923-26e0-4504-8d77-4f6d4bd88329",
   "metadata": {},
   "outputs": [
    {
     "name": "stdin",
     "output_type": "stream",
     "text": [
      "Enter a value: 3\n"
     ]
    },
    {
     "name": "stdout",
     "output_type": "stream",
     "text": [
      "<class 'str'>\n"
     ]
    }
   ],
   "source": [
    "# bool to str\n",
    "a=bool(input(\"Enter a value:\"))\n",
    "b=str(a)\n",
    "print(type(b))"
   ]
  },
  {
   "cell_type": "code",
   "execution_count": 79,
   "id": "bc37a813-81cc-4ceb-bbcd-af2dfce80365",
   "metadata": {},
   "outputs": [
    {
     "name": "stdin",
     "output_type": "stream",
     "text": [
      "Enter a value: 3\n"
     ]
    },
    {
     "name": "stdout",
     "output_type": "stream",
     "text": [
      "<class 'float'>\n"
     ]
    }
   ],
   "source": [
    "# bool to float\n",
    "a=bool(input(\"Enter a value:\"))\n",
    "b=float(a)\n",
    "print(type(b))"
   ]
  },
  {
   "cell_type": "code",
   "execution_count": 81,
   "id": "5371c12f-0acc-410a-8a46-143efa58f17a",
   "metadata": {},
   "outputs": [
    {
     "name": "stdin",
     "output_type": "stream",
     "text": [
      "Enter a value: 2\n"
     ]
    },
    {
     "name": "stdout",
     "output_type": "stream",
     "text": [
      "<class 'bool'>\n"
     ]
    }
   ],
   "source": [
    "# bool to bool\n",
    "a=bool(input(\"Enter a value:\"))\n",
    "b=bool(a)\n",
    "print(type(b))"
   ]
  },
  {
   "cell_type": "markdown",
   "id": "6fb89171-ae7c-4684-9cfb-faf47c3fa7bf",
   "metadata": {},
   "source": [
    "# TASK"
   ]
  },
  {
   "cell_type": "code",
   "execution_count": 248,
   "id": "8612b92c-b955-4dc1-8c65-2778467c8a2b",
   "metadata": {},
   "outputs": [
    {
     "name": "stdin",
     "output_type": "stream",
     "text": [
      "Enter your score: 35\n"
     ]
    },
    {
     "name": "stdout",
     "output_type": "stream",
     "text": [
      "FAIL\n"
     ]
    }
   ],
   "source": [
    "score=int(input(\"Enter your score:\"))\n",
    "if(score>=90):\n",
    "  print(\"S GRADE\")\n",
    "elif(score>=80):\n",
    "  print(\"A GRADE\")\n",
    "elif(score>=70):\n",
    "  print(\"B GRADE\")\n",
    "elif(score>=60):\n",
    "  print(\"C GRADE\")\n",
    "elif(score>=50):\n",
    "  print(\"E GRADE\")\n",
    "elif(score<=40):\n",
    "  print(\"FAIL\")\n",
    "else:\n",
    "    print(\"Ivalid Grade\")"
   ]
  },
  {
   "cell_type": "code",
   "execution_count": null,
   "id": "82f93f45-6d49-45c1-bfea-d4430514a602",
   "metadata": {},
   "outputs": [],
   "source": []
  }
 ],
 "metadata": {
  "kernelspec": {
   "display_name": "Python [conda env:base] *",
   "language": "python",
   "name": "conda-base-py"
  },
  "language_info": {
   "codemirror_mode": {
    "name": "ipython",
    "version": 3
   },
   "file_extension": ".py",
   "mimetype": "text/x-python",
   "name": "python",
   "nbconvert_exporter": "python",
   "pygments_lexer": "ipython3",
   "version": "3.12.7"
  }
 },
 "nbformat": 4,
 "nbformat_minor": 5
}
