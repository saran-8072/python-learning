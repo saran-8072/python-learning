{
 "cells": [
  {
   "cell_type": "code",
   "execution_count": 1,
   "id": "3241f4cc-c189-4969-b23b-905dd393d0cd",
   "metadata": {},
   "outputs": [],
   "source": [
    "# Get one string from the user\n",
    "# Identify the middle character of the string"
   ]
  },
  {
   "cell_type": "code",
   "execution_count": 168,
   "id": "1ad8ee31-96ff-4300-b4af-593965c8fc54",
   "metadata": {},
   "outputs": [
    {
     "name": "stdin",
     "output_type": "stream",
     "text": [
      "Enter a string: saran\n"
     ]
    },
    {
     "name": "stdout",
     "output_type": "stream",
     "text": [
      "r\n"
     ]
    }
   ],
   "source": [
    "A=str(input(\"Enter a string:\"))\n",
    "B=len(A)\n",
    "C=B//2\n",
    "print(A[C])"
   ]
  },
  {
   "cell_type": "code",
   "execution_count": 15,
   "id": "f6f0329a-bb00-46dd-a712-3fffc7036683",
   "metadata": {},
   "outputs": [],
   "source": [
    "#Get two characters from user  example: \"java\" \"groovy\"\n",
    "#java6groovy4"
   ]
  },
  {
   "cell_type": "code",
   "execution_count": 17,
   "id": "92f40484-c3e8-4ac4-b2ca-07c4cbf9678d",
   "metadata": {},
   "outputs": [
    {
     "name": "stdin",
     "output_type": "stream",
     "text": [
      "enter a name java\n",
      "enter a name groovy\n"
     ]
    },
    {
     "name": "stdout",
     "output_type": "stream",
     "text": [
      "4\n",
      "6\n"
     ]
    }
   ],
   "source": [
    "A=str(input(\"enter a name\"))\n",
    "B=str(input(\"enter a name\"))\n",
    "name_a=len(A)\n",
    "name_b=len(B)\n",
    "print(name_a)\n",
    "print(name_b)"
   ]
  },
  {
   "cell_type": "code",
   "execution_count": 31,
   "id": "1147f3a7-ad6d-442f-a0c9-0ade75368829",
   "metadata": {},
   "outputs": [],
   "source": [
    "# \"pi\" \"mathematics\"  ===> pi15mahematics2"
   ]
  },
  {
   "cell_type": "code",
   "execution_count": 188,
   "id": "cae8a1d5-0577-4233-b641-7b5831fa5fe3",
   "metadata": {},
   "outputs": [
    {
     "name": "stdout",
     "output_type": "stream",
     "text": [
      "2\n",
      "11\n"
     ]
    }
   ],
   "source": [
    "a=\"pi\"\n",
    "print(len(a))\n",
    "b=\"mathematics\"\n",
    "print(len(b))"
   ]
  },
  {
   "cell_type": "code",
   "execution_count": 178,
   "id": "053b2698-f75d-4f0d-af8c-5d90c7c66244",
   "metadata": {},
   "outputs": [
    {
     "name": "stdout",
     "output_type": "stream",
     "text": [
      "15\n"
     ]
    }
   ],
   "source": [
    "a=\"pi15mahematics2\"\n",
    "b=len(a)\n",
    "print(b)\n"
   ]
  },
  {
   "cell_type": "code",
   "execution_count": null,
   "id": "0ceeca97-61c5-4185-a574-7c34ff056aa6",
   "metadata": {},
   "outputs": [],
   "source": []
  },
  {
   "cell_type": "code",
   "execution_count": null,
   "id": "0d766daf-fdf8-4dc1-a164-79acf109bfaf",
   "metadata": {},
   "outputs": [],
   "source": []
  },
  {
   "cell_type": "code",
   "execution_count": null,
   "id": "45a053cc-5300-412e-9ebe-f817021fd750",
   "metadata": {},
   "outputs": [],
   "source": []
  }
 ],
 "metadata": {
  "kernelspec": {
   "display_name": "Python [conda env:base] *",
   "language": "python",
   "name": "conda-base-py"
  },
  "language_info": {
   "codemirror_mode": {
    "name": "ipython",
    "version": 3
   },
   "file_extension": ".py",
   "mimetype": "text/x-python",
   "name": "python",
   "nbconvert_exporter": "python",
   "pygments_lexer": "ipython3",
   "version": "3.12.7"
  }
 },
 "nbformat": 4,
 "nbformat_minor": 5
}
